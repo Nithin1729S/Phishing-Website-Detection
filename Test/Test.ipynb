{
 "cells": [
  {
   "cell_type": "code",
   "execution_count": 3,
   "id": "800739d7-d56d-4bf0-9060-5696bf028c66",
   "metadata": {},
   "outputs": [
    {
     "name": "stdout",
     "output_type": "stream",
     "text": [
      "Requirement already satisfied: nltk in /home/nithin/miniconda3/envs/it352/lib/python3.10/site-packages (3.9.1)\n",
      "Requirement already satisfied: click in /home/nithin/miniconda3/envs/it352/lib/python3.10/site-packages (from nltk) (8.1.8)\n",
      "Requirement already satisfied: joblib in /home/nithin/miniconda3/envs/it352/lib/python3.10/site-packages (from nltk) (1.4.2)\n",
      "Requirement already satisfied: regex>=2021.8.3 in /home/nithin/miniconda3/envs/it352/lib/python3.10/site-packages (from nltk) (2024.11.6)\n",
      "Requirement already satisfied: tqdm in /home/nithin/miniconda3/envs/it352/lib/python3.10/site-packages (from nltk) (4.67.1)\n",
      "['good']\n",
      "******************************\n",
      "['good' 'good' 'good' 'good']\n"
     ]
    }
   ],
   "source": [
    "import pickle\n",
    "!pip install nltk\n",
    "import nltk\n",
    "predict_bad = [\n",
    "    'yeniik.com.tr/wp-admin/js/login.alibaba.com/login.jsp.php',\n",
    "    'fazan-pacir.rs/temp/libraries/ipad',\n",
    "    'tubemoviez.exe',\n",
    "    'svision-online.de/mgfi/administrator/components/com_babackup/classes/fx29id1.txt'\n",
    "]\n",
    "predict_good = [\n",
    "    'youtube.com/',\n",
    "    'youtube.com/watch?v=qI0TQJI3vdU',\n",
    "    'retailhellunderground.com/',\n",
    "    'restorevisioncenters.com/html/technology.html'\n",
    "]\n",
    "\n",
    "# Load your model (which is assumed to be a complete pipeline)\n",
    "loaded_model = pickle.load(open('phishing.pkl', 'rb'))\n",
    "# Get predictions directly from the pipeline\n",
    "result = loaded_model.predict(['youtube.com/'])\n",
    "result2 = loaded_model.predict(predict_good)\n",
    "\n",
    "print(result)\n",
    "print(\"*\" * 30)\n",
    "print(result2)\n"
   ]
  },
  {
   "cell_type": "code",
   "execution_count": null,
   "id": "278fcff7-da51-458d-9f08-29525a8ff30f",
   "metadata": {},
   "outputs": [],
   "source": []
  },
  {
   "cell_type": "code",
   "execution_count": null,
   "id": "a4a9fd2a-1db6-4957-8035-7f483b5eb7c2",
   "metadata": {},
   "outputs": [],
   "source": []
  }
 ],
 "metadata": {
  "kernelspec": {
   "display_name": "Python 3 (ipykernel)",
   "language": "python",
   "name": "python3"
  },
  "language_info": {
   "codemirror_mode": {
    "name": "ipython",
    "version": 3
   },
   "file_extension": ".py",
   "mimetype": "text/x-python",
   "name": "python",
   "nbconvert_exporter": "python",
   "pygments_lexer": "ipython3",
   "version": "3.10.16"
  }
 },
 "nbformat": 4,
 "nbformat_minor": 5
}
